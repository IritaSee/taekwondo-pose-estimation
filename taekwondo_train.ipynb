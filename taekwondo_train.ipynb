{
  "nbformat": 4,
  "nbformat_minor": 0,
  "metadata": {
    "colab": {
      "provenance": [],
      "authorship_tag": "ABX9TyODL6QokYpJYju8GvVdlZDM",
      "include_colab_link": true
    },
    "kernelspec": {
      "name": "python3",
      "display_name": "Python 3"
    },
    "language_info": {
      "name": "python"
    }
  },
  "cells": [
    {
      "cell_type": "markdown",
      "metadata": {
        "id": "view-in-github",
        "colab_type": "text"
      },
      "source": [
        "<a href=\"https://colab.research.google.com/github/IritaSee/taekwondo-pose-estimation/blob/master/taekwondo_train.ipynb\" target=\"_parent\"><img src=\"https://colab.research.google.com/assets/colab-badge.svg\" alt=\"Open In Colab\"/></a>"
      ]
    },
    {
      "cell_type": "code",
      "source": [
        "!pip install PyWavelets"
      ],
      "metadata": {
        "colab": {
          "base_uri": "https://localhost:8080/"
        },
        "id": "VQ3ncqRiMk30",
        "outputId": "2b2171f6-0007-44c2-f80f-5dd1752dc9b6"
      },
      "execution_count": 8,
      "outputs": [
        {
          "output_type": "stream",
          "name": "stdout",
          "text": [
            "Collecting PyWavelets\n",
            "  Downloading pywavelets-1.7.0-cp310-cp310-manylinux_2_17_x86_64.manylinux2014_x86_64.whl.metadata (9.0 kB)\n",
            "Requirement already satisfied: numpy<3,>=1.23 in /usr/local/lib/python3.10/dist-packages (from PyWavelets) (1.26.4)\n",
            "Downloading pywavelets-1.7.0-cp310-cp310-manylinux_2_17_x86_64.manylinux2014_x86_64.whl (4.5 MB)\n",
            "\u001b[2K   \u001b[90m━━━━━━━━━━━━━━━━━━━━━━━━━━━━━━━━━━━━━━━━\u001b[0m \u001b[32m4.5/4.5 MB\u001b[0m \u001b[31m28.2 MB/s\u001b[0m eta \u001b[36m0:00:00\u001b[0m\n",
            "\u001b[?25hInstalling collected packages: PyWavelets\n",
            "Successfully installed PyWavelets-1.7.0\n"
          ]
        }
      ]
    },
    {
      "cell_type": "code",
      "execution_count": 11,
      "metadata": {
        "id": "a-qDzhCqL42Y"
      },
      "outputs": [],
      "source": [
        "import pywt\n",
        "import numpy as np\n",
        "\n",
        "def wavelet_packet_entropy(signal, wavelet='db1', level=3, entropy_type='shannon'):\n",
        "\twp = pywt.WaveletPacket(data=signal, wavelet=wavelet, mode='symmetric', maxlevel=level)\n",
        "\n",
        "# Function to calculate entropy based on the specified type\n",
        "def calculate_entropy(coefs, entropy_type):\n",
        "    energy = np.square(coefs)\n",
        "    energy_sum = np.sum(energy)\n",
        "    normalized_energy = energy / energy_sum if energy_sum != 0 else np.zeros_like(energy)\n",
        "\n",
        "    if entropy_type == 'shannon':\n",
        "            entropy = -np.sum(normalized_energy * np.log2(normalized_energy + np.finfo(float).eps))\n",
        "    elif entropy_type == 'log_energy':\n",
        "            entropy = np.sum(np.log2(energy + np.finfo(float).eps))\n",
        "    elif entropy_type == 'sure':\n",
        "            entropy = np.sum(np.minimum(np.square(coefs), 1))\n",
        "    else:\n",
        "            raise ValueError(\"Unknown entropy type\")\n",
        "\n",
        "    return entropy\n",
        "\n",
        "    entropy_values = {}\n",
        "\n",
        "    # Calculate entropy for each node in the wavelet packet tree\n",
        "    for node in wp.get_level(level, order='natural'):\n",
        "        coefs = node.data\n",
        "        entropy = calculate_entropy(coefs, entropy_type)\n",
        "        entropy_values[node.path] = entropy\n",
        "\n",
        "    return entropy_values\n",
        "\n",
        "\n"
      ]
    },
    {
      "cell_type": "code",
      "source": [
        "# Example usage\n",
        "signal = np.sin(np.linspace(0, 2*np.pi, 128)) + np.random.randn(128) * 0.1\n",
        "entropy_values = wavelet_packet_entropy(signal, wavelet='db1', level=3, entropy_type='shannon')"
      ],
      "metadata": {
        "id": "yE2-JkZfL_JQ"
      },
      "execution_count": 12,
      "outputs": []
    },
    {
      "cell_type": "code",
      "source": [
        "print(entropy_values)"
      ],
      "metadata": {
        "colab": {
          "base_uri": "https://localhost:8080/"
        },
        "id": "Xu9hlSHmM4z0",
        "outputId": "1e6d290c-6f1a-4f89-f6ab-0787932f96c9"
      },
      "execution_count": 14,
      "outputs": [
        {
          "output_type": "stream",
          "name": "stdout",
          "text": [
            "None\n"
          ]
        }
      ]
    }
  ]
}